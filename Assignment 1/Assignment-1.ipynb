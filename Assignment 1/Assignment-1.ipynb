{
 "cells": [
  {
   "cell_type": "markdown",
   "metadata": {},
   "source": [
    "# Assignment 1 - Clustering"
   ]
  },
  {
   "cell_type": "markdown",
   "metadata": {},
   "source": [
    "### 1. Look at this Website:\n",
    "\n",
    "https://rpubs.com/alanyang0924/TTE "
   ]
  },
  {
   "cell_type": "markdown",
   "metadata": {},
   "source": [
    "### 2. Extract the dummy data in the package and save it as \"data_censored.csv\""
   ]
  },
  {
   "cell_type": "code",
   "execution_count": 2,
   "metadata": {},
   "outputs": [
    {
     "name": "stdout",
     "output_type": "stream",
     "text": [
      "   id  period  treatment  x1        x2  x3        x4  age     age_s  outcome  \\\n",
      "0   1       0          1   1  1.146148   0  0.734203   36  0.083333        0   \n",
      "1   1       1          1   1  0.002200   0  0.734203   37  0.166667        0   \n",
      "2   1       2          1   0 -0.481762   0  0.734203   38  0.250000        0   \n",
      "3   1       3          1   0  0.007872   0  0.734203   39  0.333333        0   \n",
      "4   1       4          1   1  0.216054   0  0.734203   40  0.416667        0   \n",
      "5   1       5          1   0 -0.057482   0  0.734203   41  0.500000        0   \n",
      "\n",
      "   censored  eligible  \n",
      "0         0         1  \n",
      "1         0         0  \n",
      "2         0         0  \n",
      "3         0         0  \n",
      "4         0         0  \n",
      "5         1         0  \n"
     ]
    }
   ],
   "source": [
    "import pandas as pd\n",
    "\n",
    "data = pd.read_csv('data_censored.csv')\n",
    "\n",
    "print(data)"
   ]
  },
  {
   "cell_type": "markdown",
   "metadata": {},
   "source": [
    "### 3. Convert the R codes into Python Codes (use Jupyter Notebook), replicate the results using your python code."
   ]
  },
  {
   "cell_type": "markdown",
   "metadata": {},
   "source": [
    "#### 1. Setup"
   ]
  },
  {
   "cell_type": "markdown",
   "metadata": {},
   "source": [
    "A sequence of target trials analysis starts by specifying which estimand will be used:\n",
    "```R\n",
    "trial_pp  <- trial_sequence(estimand = \"PP\")  # Per-protocol\n",
    "\n",
    "trial_itt <- trial_sequence(estimand = \"ITT\") # Intention-to-treat\n",
    "```"
   ]
  },
  {
   "cell_type": "code",
   "execution_count": null,
   "metadata": {},
   "outputs": [],
   "source": [
    "# translated python:"
   ]
  },
  {
   "cell_type": "markdown",
   "metadata": {},
   "source": [
    "Additionally it is useful to create a directory to save files for later inspection.\n",
    "```R\n",
    "trial_pp_dir  <- file.path(tempdir(), \"trial_pp\")\n",
    "dir.create(trial_pp_dir)\n",
    "\n",
    "trial_itt_dir <- file.path(tempdir(), \"trial_itt\")\n",
    "dir.create(trial_itt_dir)\n",
    "```"
   ]
  },
  {
   "cell_type": "code",
   "execution_count": null,
   "metadata": {},
   "outputs": [],
   "source": [
    "# translated python:"
   ]
  },
  {
   "cell_type": "markdown",
   "metadata": {},
   "source": [
    "#### 2. Data preparation"
   ]
  },
  {
   "cell_type": "markdown",
   "metadata": {},
   "source": [
    "Next the user must specify the observational input data that will be used for the target trial emulation. Here we need to specify which columns contain which values and how they should be used.\n",
    "\n",
    "```R\n",
    "data(\"data_censored\") # dummy data in the package\n",
    "head(data_censored)\n",
    "\n",
    "##   id period treatment x1           x2 x3       x4 age      age_s outcome\n",
    "## 1  1      0         1  1  1.146148362  0 0.734203  36 0.08333333       0\n",
    "## 2  1      1         1  1  0.002200337  0 0.734203  37 0.16666667       0\n",
    "## 3  1      2         1  0 -0.481762418  0 0.734203  38 0.25000000       0\n",
    "## 4  1      3         1  0  0.007872396  0 0.734203  39 0.33333333       0\n",
    "## 5  1      4         1  1  0.216053715  0 0.734203  40 0.41666667       0\n",
    "## 6  1      5         1  0 -0.057481504  0 0.734203  41 0.50000000       0\n",
    "##   censored eligible\n",
    "## 1        0        1\n",
    "## 2        0        0\n",
    "## 3        0        0\n",
    "## 4        0        0\n",
    "## 5        0        0\n",
    "## 6        1        0\n",
    "```"
   ]
  },
  {
   "cell_type": "code",
   "execution_count": 1,
   "metadata": {},
   "outputs": [
    {
     "name": "stdout",
     "output_type": "stream",
     "text": [
      "   id  period  treatment  x1        x2  x3        x4  age     age_s  outcome  \\\n",
      "0   1       0          1   1  1.146148   0  0.734203   36  0.083333        0   \n",
      "1   1       1          1   1  0.002200   0  0.734203   37  0.166667        0   \n",
      "2   1       2          1   0 -0.481762   0  0.734203   38  0.250000        0   \n",
      "3   1       3          1   0  0.007872   0  0.734203   39  0.333333        0   \n",
      "4   1       4          1   1  0.216054   0  0.734203   40  0.416667        0   \n",
      "5   1       5          1   0 -0.057482   0  0.734203   41  0.500000        0   \n",
      "\n",
      "   censored  eligible  \n",
      "0         0         1  \n",
      "1         0         0  \n",
      "2         0         0  \n",
      "3         0         0  \n",
      "4         0         0  \n",
      "5         1         0  \n"
     ]
    }
   ],
   "source": [
    "#translated python\n",
    "import pandas as pd\n",
    "\n",
    "data = pd.read_csv('data_censored.csv')\n",
    "\n",
    "print(data)"
   ]
  },
  {
   "cell_type": "markdown",
   "metadata": {},
   "source": [
    "```R\n",
    "# Per-protocol\n",
    "trial_pp <- trial_pp |>\n",
    "  set_data(\n",
    "    data      = data_censored,\n",
    "    id        = \"id\",\n",
    "    period    = \"period\",\n",
    "    treatment = \"treatment\",\n",
    "    outcome   = \"outcome\",\n",
    "    eligible  = \"eligible\"\n",
    "  )\n",
    "\n",
    "# ITT\n",
    "# Function style without pipes\n",
    "trial_itt <- set_data( \n",
    "  trial_itt,\n",
    "  data      = data_censored,\n",
    "  id        = \"id\",\n",
    "  period    = \"period\",\n",
    "  treatment = \"treatment\",\n",
    "  outcome   = \"outcome\",\n",
    "  eligible  = \"eligible\"\n",
    ")\n",
    "\n",
    "## Trial Sequence Object \n",
    "## Estimand: Intention-to-treat \n",
    "##  \n",
    "## Data: \n",
    "##  - N: 725 observations from 89 patients \n",
    "##         id period treatment    x1           x2    x3        x4   age      age_s\n",
    "##      <int>  <int>     <num> <num>        <num> <int>     <num> <num>      <num>\n",
    "##   1:     1      0         1     1  1.146148362     0 0.7342030    36 0.08333333\n",
    "##   2:     1      1         1     1  0.002200337     0 0.7342030    37 0.16666667\n",
    "##  ---                                                                           \n",
    "## 724:    99      6         1     1 -0.033762356     1 0.5752681    71 3.00000000\n",
    "## 725:    99      7         0     0 -1.340496520     1 0.5752681    72 3.08333333\n",
    "##      outcome censored eligible time_on_regime\n",
    "##        <num>    <int>    <num>          <num>\n",
    "##   1:       0        0        1              0\n",
    "##   2:       0        0        0              1\n",
    "##  ---                                         \n",
    "## 724:       0        0        0              1\n",
    "## 725:       1        0        0              2\n",
    "##  \n",
    "## IPW for informative censoring: \n",
    "##  - No weight model specified \n",
    "##  \n",
    "## Sequence of Trials Data: \n",
    "## - Use set_expansion_options() and expand_trials() to construct the sequence of trials dataset. \n",
    "##  \n",
    "## Outcome model: \n",
    "##  - Outcome model not specified. Use set_outcome_model()\n",
    "```"
   ]
  },
  {
   "cell_type": "code",
   "execution_count": null,
   "metadata": {},
   "outputs": [],
   "source": [
    "# translated python:"
   ]
  },
  {
   "cell_type": "markdown",
   "metadata": {},
   "source": [
    "#### 3. Weight models and censoring"
   ]
  },
  {
   "cell_type": "markdown",
   "metadata": {},
   "source": [
    "To adjust for the effects of informative censoring, inverse probability of censoring weights (IPCW) can be applied. To estimate these weights, we construct time-to-(censoring) event models. Two sets of models are fit for the two censoring mechanisms which may apply: censoring due to deviation from assigned treatment and other informative censoring."
   ]
  },
  {
   "cell_type": "markdown",
   "metadata": {},
   "source": [
    "##### 3.1 Censoring due to treatment switching"
   ]
  },
  {
   "cell_type": "markdown",
   "metadata": {},
   "source": [
    "We specify model formulas to be used for calculating the probability of receiving treatment in the current period. Separate models are fitted for patients who had treatment = 1 and those who had treatment = 0 in the previous period. Stabilized weights are used by fitting numerator and denominator models.\n",
    "\n",
    "There are optional arguments to specify columns which can include/exclude observations from the treatment models. These are used in case it is not possible for a patient to deviate from a certain treatment assignment in that period.\n",
    "\n",
    "```R\n",
    "trial_pp <- trial_pp |>\n",
    "  set_switch_weight_model(\n",
    "    numerator    = ~ age,\n",
    "    denominator  = ~ age + x1 + x3,\n",
    "    model_fitter = stats_glm_logit(save_path = file.path(trial_pp_dir, \"switch_models\"))\n",
    "  )\n",
    "trial_pp@switch_weights\n",
    "\n",
    "##  - Numerator formula: treatment ~ age \n",
    "##  - Denominator formula: treatment ~ age + x1 + x3 \n",
    "##  - Model fitter type: te_stats_glm_logit \n",
    "##  - Weight models not fitted. Use calculate_weights()\n",
    "```\n",
    "\n",
    "This type of censoring is not used with an ITT estimand, so we cannot use `set_switch_weight_model()` with `trial_ITT` objects."
   ]
  },
  {
   "cell_type": "code",
   "execution_count": null,
   "metadata": {},
   "outputs": [],
   "source": [
    "# translated python:"
   ]
  },
  {
   "cell_type": "markdown",
   "metadata": {},
   "source": [
    "##### 3.2 Other informative censoring"
   ]
  },
  {
   "cell_type": "markdown",
   "metadata": {},
   "source": [
    "In case there is other informative censoring occurring in the data, we can create similar models to estimate the IPCW. These can be used with all types of estimand. We need to specify `censor_event` which is the column containing the censoring indicator.\n",
    "\n",
    "```R\n",
    "trial_pp <- trial_pp |>\n",
    "  set_censor_weight_model(\n",
    "    censor_event = \"censored\",\n",
    "    numerator    = ~ x2,\n",
    "    denominator  = ~ x2 + x1,\n",
    "    pool_models  = \"none\",\n",
    "    model_fitter = stats_glm_logit(save_path = file.path(trial_pp_dir, \"switch_models\"))\n",
    "  )\n",
    "trial_pp@censor_weights\n",
    "\n",
    "##  - Numerator formula: 1 - censored ~ x2 \n",
    "##  - Denominator formula: 1 - censored ~ x2 + x1 \n",
    "##  - Model fitter type: te_stats_glm_logit \n",
    "##  - Weight models not fitted. Use calculate_weights()\n",
    "```"
   ]
  },
  {
   "cell_type": "code",
   "execution_count": null,
   "metadata": {},
   "outputs": [],
   "source": [
    "# translated python:"
   ]
  },
  {
   "cell_type": "markdown",
   "metadata": {},
   "source": [
    "```R\n",
    "trial_itt <- set_censor_weight_model(\n",
    "  trial_itt,\n",
    "  censor_event = \"censored\",\n",
    "  numerator    = ~x2,\n",
    "  denominator  = ~ x2 + x1,\n",
    "  pool_models  = \"numerator\",\n",
    "  model_fitter = stats_glm_logit(save_path = file.path(trial_itt_dir, \"switch_models\"))\n",
    ")\n",
    "trial_itt@censor_weights\n",
    "\n",
    "##  - Numerator formula: 1 - censored ~ x2 \n",
    "##  - Denominator formula: 1 - censored ~ x2 + x1 \n",
    "##  - Numerator model is pooled across treatment arms. Denominator model is not pooled. \n",
    "##  - Model fitter type: te_stats_glm_logit \n",
    "##  - Weight models not fitted. Use calculate_weights()\n",
    "```"
   ]
  },
  {
   "cell_type": "code",
   "execution_count": null,
   "metadata": {},
   "outputs": [],
   "source": [
    "# translated python:"
   ]
  },
  {
   "cell_type": "markdown",
   "metadata": {},
   "source": [
    "#### 4. Calculate Weights"
   ]
  },
  {
   "cell_type": "markdown",
   "metadata": {},
   "source": [
    "Next we need to fit the individual models and combine them into weights. This is done with `calculate_weights()`.\n",
    "\n",
    "```R\n",
    "trial_pp  <- trial_pp |> calculate_weights()\n",
    "trial_itt <- calculate_weights(trial_itt)\n",
    "```"
   ]
  },
  {
   "cell_type": "code",
   "execution_count": null,
   "metadata": {},
   "outputs": [],
   "source": [
    "# translated python:"
   ]
  },
  {
   "cell_type": "markdown",
   "metadata": {},
   "source": [
    "The full model objects are saved to disk in the directories we created above. The summaries are stored in the trial sequence object and can be printed:\n",
    "\n",
    "```R\n",
    "show_weight_models\n",
    "\n",
    "## Weight Models for Informative Censoring\n",
    "## ---------------------------------------\n",
    "## \n",
    "## [[n]]\n",
    "## Model: P(censor_event = 0 | X) for numerator \n",
    "##  \n",
    "##  term        estimate   std.error statistic p.value     \n",
    "##  (Intercept)  2.4480907 0.1405726 17.415128 6.334656e-68\n",
    "##  x2          -0.4486482 0.1368765 -3.277759 1.046346e-03\n",
    "##  \n",
    "##  null.deviance df.null logLik    AIC      BIC      deviance df.residual nobs\n",
    "##  404.2156      724     -196.7002 397.4004 406.5727 393.4004 723         725 \n",
    "##  \n",
    "##  path                                                                                              \n",
    "##  C:\\\\Users\\\\14379\\\\AppData\\\\Local\\\\Temp\\\\RtmpoDhrya/trial_itt/switch_models\\\\model_29e85584264c.rds\n",
    "##  \n",
    "## [[d0]]\n",
    "## Model: P(censor_event = 0 | X, previous treatment = 0) for denominator \n",
    "##  \n",
    "##  term        estimate   std.error statistic p.value     \n",
    "##  (Intercept)  1.8941961 0.2071122  9.145746 5.921948e-20\n",
    "##  x2          -0.5898292 0.1693402 -3.483101 4.956409e-04\n",
    "##  x1           0.8552603 0.3452930  2.476912 1.325247e-02\n",
    "##  \n",
    "##  null.deviance df.null logLik    AIC      BIC      deviance df.residual nobs\n",
    "##  283.0723      425     -132.1655 270.3309 282.4943 264.3309 423         426 \n",
    "##  \n",
    "##  path                                                                                             \n",
    "##  C:\\\\Users\\\\14379\\\\AppData\\\\Local\\\\Temp\\\\RtmpoDhrya/trial_itt/switch_models\\\\model_29e84d26c13.rds\n",
    "##  \n",
    "## [[d1]]\n",
    "## Model: P(censor_event = 0 | X, previous treatment = 1) for denominator \n",
    "##  \n",
    "##  term        estimate    std.error statistic  p.value     \n",
    "##  (Intercept)  2.81443372 0.3122688  9.0128570 2.007570e-19\n",
    "##  x2          -0.03713196 0.2699579 -0.1375472 8.905983e-01\n",
    "##  x1           0.89351418 0.7771954  1.1496648 2.502819e-01\n",
    "##  \n",
    "##  null.deviance df.null logLik    AIC      BIC      deviance df.residual nobs\n",
    "##  113.0528      298     -55.72938 117.4588 128.5601 111.4588 296         299 \n",
    "##  \n",
    "##  path                                                                                             \n",
    "##  C:\\\\Users\\\\14379\\\\AppData\\\\Local\\\\Temp\\\\RtmpoDhrya/trial_itt/switch_models\\\\model_29e8d844487.rds\n",
    "## \n",
    "```"
   ]
  },
  {
   "cell_type": "code",
   "execution_count": null,
   "metadata": {},
   "outputs": [],
   "source": [
    "# translated python:"
   ]
  },
  {
   "cell_type": "markdown",
   "metadata": {},
   "source": [
    "```R\n",
    "show_weight_models(trial_pp)\n",
    "\n",
    "\n",
    "##  term        estimate    std.error  statistic  p.value   \n",
    "##  (Intercept)  1.55485166 0.81706997  1.9029602 0.05704573\n",
    "##  age         -0.02312027 0.01696843 -1.3625460 0.17302562\n",
    "##  x1           0.52915871 0.43594855  1.2138100 0.22482028\n",
    "##  x3           0.21319587 0.35744378  0.5964459 0.55087740\n",
    "##  \n",
    "##  null.deviance df.null logLik    AIC      BIC      deviance df.residual nobs\n",
    "##  188.829       150     -92.54787 193.0957 205.1649 185.0957 147         151 \n",
    "##  \n",
    "##  path                                                                                             \n",
    "##  C:\\\\Users\\\\14379\\\\AppData\\\\Local\\\\Temp\\\\RtmpoDhrya/trial_pp/switch_models\\\\model_29e8365f2ffb.rds\n",
    "##  \n",
    "## [[n0]]\n",
    "## Model: P(treatment = 1 | previous treatment = 0) for numerator \n",
    "##  \n",
    "##  term        estimate    std.error  statistic p.value   \n",
    "##  (Intercept)  1.09212298 0.60582678  1.802698 0.07143559\n",
    "##  age         -0.03360404 0.01439482 -2.334453 0.01957201\n",
    "##  \n",
    "##  null.deviance df.null logLik    AIC      BIC      deviance df.residual nobs\n",
    "##  232.2705      169     -113.2746 230.5492 236.8208 226.5492 168         170 \n",
    "##  \n",
    "##  path                                                                                             \n",
    "##  C:\\\\Users\\\\14379\\\\AppData\\\\Local\\\\Temp\\\\RtmpoDhrya/trial_pp/switch_models\\\\model_29e86b1816e0.rds\n",
    "##  \n",
    "## [[d0]]\n",
    "## Model: P(treatment = 1 | previous treatment = 0) for denominator \n",
    "##  \n",
    "##  term        estimate    std.error  statistic  p.value   \n",
    "##  (Intercept)  1.03084683 0.63052714  1.6348969 0.10207067\n",
    "##  age         -0.03633255 0.01472576 -2.4672779 0.01361446\n",
    "##  x1           0.64473751 0.32346837  1.9932011 0.04623943\n",
    "##  x3          -0.23411026 0.32147930 -0.7282281 0.46647397\n",
    "##  \n",
    "##  null.deviance df.null logLik  AIC    BIC      deviance df.residual nobs\n",
    "##  232.2705      169     -111.03 230.06 242.6032 222.06   166         170 \n",
    "##  \n",
    "##  path                                                                                             \n",
    "##  C:\\\\Users\\\\14379\\\\AppData\\\\Local\\\\Temp\\\\RtmpoDhrya/trial_pp/switch_models\\\\model_29e83d5c48dd.rds\n",
    "## \n",
    "```"
   ]
  },
  {
   "cell_type": "code",
   "execution_count": null,
   "metadata": {},
   "outputs": [],
   "source": [
    "# translated python:"
   ]
  },
  {
   "cell_type": "markdown",
   "metadata": {},
   "source": [
    "#### 5. Specify Outcome Model"
   ]
  },
  {
   "cell_type": "markdown",
   "metadata": {},
   "source": [
    "Now we can specify the outcome model. Here we can include adjustment terms for any variables in the dataset. The numerator terms from the stabilised weight models are automatically included in the outcome model formula.\n",
    "\n",
    "```R\n",
    "trial_pp  <- set_outcome_model(trial_pp)\n",
    "trial_itt <- set_outcome_model(trial_itt, adjustment_terms = ~x2)\n",
    "```"
   ]
  },
  {
   "cell_type": "code",
   "execution_count": null,
   "metadata": {},
   "outputs": [],
   "source": [
    "# translated python:"
   ]
  },
  {
   "cell_type": "markdown",
   "metadata": {},
   "source": [
    "#### 6. Expand Trials\n"
   ]
  },
  {
   "cell_type": "markdown",
   "metadata": {},
   "source": [
    "Now we are ready to create the data set with all of the sequence of target trials.\n",
    "\n",
    "```R\n",
    "trial_pp <- set_expansion_options(\n",
    "  trial_pp,\n",
    "  output     = save_to_datatable(),\n",
    "  chunk_size = 500 # the number of patients to include in each expansion iteration\n",
    ")\n",
    "trial_itt <- set_expansion_options(\n",
    "  trial_itt,\n",
    "  output     = save_to_datatable(),\n",
    "  chunk_size = 500\n",
    ")\n",
    "```"
   ]
  },
  {
   "cell_type": "code",
   "execution_count": null,
   "metadata": {},
   "outputs": [],
   "source": [
    "# translated python:"
   ]
  },
  {
   "cell_type": "markdown",
   "metadata": {},
   "source": [
    "##### 6.1 Create Sequence of Trials Data"
   ]
  },
  {
   "cell_type": "markdown",
   "metadata": {},
   "source": [
    "```R\n",
    "trial_pp  <- expand_trials(trial_pp)\n",
    "trial_itt <- expand_trials(trial_itt)\n",
    "\n",
    "trial_pp@expansion\n",
    "## Sequence of Trials Data: \n",
    "## - Chunk size: 500 \n",
    "## - Censor at switch: TRUE \n",
    "## - First period: 0 | Last period: Inf \n",
    "##  \n",
    "## A TE Datastore Datatable object \n",
    "## N: 500 observations \n",
    "##         id trial_period followup_time outcome    weight treatment         x2\n",
    "##      <int>        <int>         <int>   <num>     <num>     <num>      <num>\n",
    "##   1:     1            0             0       0 1.0000000         1  1.1461484\n",
    "##   2:     1            0             1       0 0.8951447         1  1.1461484\n",
    "##  ---                                                                        \n",
    "## 499:    99            0             0       0 1.0000000         1 -0.3463778\n",
    "## 500:    99            0             1       0 1.0122336         1 -0.3463778\n",
    "##        age assigned_treatment\n",
    "##      <num>              <num>\n",
    "##   1:    36                  1\n",
    "##   2:    36                  1\n",
    "##  ---                         \n",
    "## 499:    65                  1\n",
    "## 500:    65                  1\n",
    "```"
   ]
  },
  {
   "cell_type": "code",
   "execution_count": null,
   "metadata": {},
   "outputs": [],
   "source": [
    "# Translated python: "
   ]
  },
  {
   "cell_type": "markdown",
   "metadata": {},
   "source": [
    "#### 7. Load or Sample from Expanded Data"
   ]
  },
  {
   "cell_type": "markdown",
   "metadata": {},
   "source": [
    "Now that the expanded data has been created, we can prepare the data to fit the outcome model. For data that can fit comfortably in memory, this is a trivial step using `load_expanded_data`.\n",
    "\n",
    "For large datasets, it may be necessary to sample from the expanded by setting the `p_control` argument. This sets the probability that an observation with `outcome == 0` will be included in the loaded data. A seed can be set for reproducibility. Additionally, a vector of periods to include can be specified, e.g., `period = 1:60`, and/or a subsetting condition, `subset_condition = \"age > 65\"`.\n",
    "\n",
    "```R\n",
    "trial_itt <- load_expanded_data(trial_itt, seed = 1234, p_control = 0.5)\n",
    "```"
   ]
  },
  {
   "cell_type": "code",
   "execution_count": null,
   "metadata": {},
   "outputs": [],
   "source": [
    "# translated python:"
   ]
  },
  {
   "cell_type": "markdown",
   "metadata": {},
   "source": [
    "#### 8. Fit Marginal Structural Model"
   ]
  },
  {
   "cell_type": "markdown",
   "metadata": {},
   "source": [
    "To fit the outcome model we use `fit_msm()`.\n",
    "\n",
    "```R\n",
    "trial_itt <- fit_msm(\n",
    "  trial_itt,\n",
    "  weight_cols    = c(\"weight\", \"sample_weight\"),\n",
    "  modify_weights = function(w) { # winsorization of extreme weights\n",
    "    q99 <- quantile(w, probs = 0.99)\n",
    "    pmin(w, q99)\n",
    "  }\n",
    ")\n",
    "```\n",
    "\n",
    "Model Summary:\n",
    "```R\n",
    "trial_itt@outcome_model\n",
    "## - Formula: outcome ~ assigned_treatment + x2 + followup_time + I(followup_time^2) + trial_period + I(trial_period^2) \n",
    "## - Treatment variable: assigned_treatment \n",
    "## - Adjustment variables: x2 \n",
    "## - Model fitter type: te_stats_glm_logit \n",
    "##  \n",
    "## Model Summary: \n",
    "##  \n",
    "##  term               estimate std.error statistic p.value conf.low conf.high\n",
    "##  (Intercept)        -6.02    0.780      -7.72    1.2e-14 -7.550   -4.4916  \n",
    "##  assigned_treatment  1.63    0.496       3.28    1.0e-03  0.654    2.5977  \n",
    "##  x2                  0.31    0.418       0.74    4.6e-01 -0.511    1.1282  \n",
    "##  followup_time       0.34    0.244       1.38    1.7e-01 -0.141    0.8148  \n",
    "##  I(followup_time^2) -0.02    0.014      -1.42    1.5e-01 -0.049    0.0077  \n",
    "##  trial_period        7.29    0.978       7.45    9.1e-14  5.371    9.2040  \n",
    "##  I(trial_period^2)  -7.68    0.537     -14.31    1.8e-46 -8.737   -6.6325  \n",
    "##  \n",
    "##  null.deviance df.null logLik AIC BIC deviance df.residual nobs\n",
    "##  158           800     -69.1  152 185 135      794         801\n",
    "```"
   ]
  },
  {
   "cell_type": "code",
   "execution_count": null,
   "metadata": {},
   "outputs": [],
   "source": [
    "# Translated python:"
   ]
  },
  {
   "cell_type": "markdown",
   "metadata": {},
   "source": [
    "Depending on the model fitter used, we can also access the model object. For the default `stats::glm` logistic model, we have the `glm` object as well as the `sandwich` variance-covariance matrix.\n",
    "\n",
    "```R\n",
    "trial_itt@outcome_model@fitted@model$model\n",
    "\n",
    "## \n",
    "## Call:  glm(formula = formula, family = binomial(\"logit\"), data = data, \n",
    "##     weights = weights, x = FALSE, y = FALSE)\n",
    "## \n",
    "## Coefficients:\n",
    "##        (Intercept)  assigned_treatment                  x2       followup_time  \n",
    "##           -6.02067             1.62585             0.30837             0.33673  \n",
    "## I(followup_time^2)        trial_period   I(trial_period^2)  \n",
    "##           -0.02049             7.28762            -7.68478  \n",
    "## \n",
    "## Degrees of Freedom: 800 Total (i.e. Null);  794 Residual\n",
    "## Null Deviance:       157.8 \n",
    "## Residual Deviance: 134.7     AIC: 152.2\n",
    "\n",
    "trial_itt@outcome_model@fitted@model$vcov\n",
    "\n",
    "##                     (Intercept) assigned_treatment           x2 followup_time\n",
    "## (Intercept)         0.608651263       -0.007606479  0.042942422  -0.143451214\n",
    "## assigned_treatment -0.007606479        0.245882729  0.087953406  -0.052364376\n",
    "## x2                  0.042942422        0.087953406  0.174977954  -0.045052691\n",
    "## followup_time      -0.143451214       -0.052364376 -0.045052691   0.059487800\n",
    "## I(followup_time^2)  0.007130666        0.002815736  0.002843807  -0.003362158\n",
    "## trial_period       -0.105885453       -0.341609248 -0.097440741   0.104454026\n",
    "## I(trial_period^2)   0.049055893        0.165009684  0.046219048  -0.054969078\n",
    "##                    I(followup_time^2) trial_period I(trial_period^2)\n",
    "## (Intercept)              0.0071306658  -0.10588545        0.04905589\n",
    "## assigned_treatment       0.0028157357  -0.34160925        0.16500968\n",
    "## x2                       0.0028438066  -0.09744074        0.04621905\n",
    "## followup_time           -0.0033621580   0.10445403       -0.05496908\n",
    "## I(followup_time^2)       0.0002067028  -0.00514379        0.00265172\n",
    "## trial_period            -0.0051437905   0.95604134       -0.51334414\n",
    "## I(trial_period^2)        0.0026517200  -0.51328532        0.28822666\n",
    "```"
   ]
  },
  {
   "cell_type": "code",
   "execution_count": null,
   "metadata": {},
   "outputs": [],
   "source": [
    "# Translated python:"
   ]
  },
  {
   "cell_type": "markdown",
   "metadata": {},
   "source": [
    "The complete object shows all the specifications:\n",
    "\n",
    "```R\n",
    "trial_itt\n",
    "\n",
    "## Trial Sequence Object \n",
    "## Estimand: Intention-to-treat \n",
    "##  \n",
    "## Data: \n",
    "##  - N: 725 observations from 89 patients \n",
    "##         id period treatment    x1           x2    x3        x4   age      age_s\n",
    "##      <int>  <int>     <num> <num>        <num> <int>     <num> <num>      <num>\n",
    "##   1:     1      0         1     1  1.146148362     0 0.7342030    36 0.08333333\n",
    "##   2:     1      1         1     1  0.002200337     0 0.7342030    37 0.16666667\n",
    "##  ---                                                                           \n",
    "## 724:    99      6         1     1 -0.033762356     1 0.5752681    71 3.00000000\n",
    "## 725:    99      7         0     0 -1.340496520     1 0.5752681    72 3.08333333\n",
    "##      outcome censored eligible time_on_regime        wt       wtC\n",
    "##        <num>    <int>    <num>          <num>     <num>     <num>\n",
    "##   1:       0        0        1              0 0.9835463 0.9835463\n",
    "##   2:       0        0        0              1 0.9429254 0.9429254\n",
    "##  ---                                                             \n",
    "## 724:       0        0        0              1 0.9440988 0.9440988\n",
    "## 725:       1        0        0              2 1.0092093 1.0092093\n",
    "##  \n",
    "## IPW for informative censoring: \n",
    "##  - Numerator formula: 1 - censored ~ x2 \n",
    "##  - Denominator formula: 1 - censored ~ x2 + x1 \n",
    "##  - Numerator model is pooled across treatment arms. Denominator model is not pooled. \n",
    "##  - Model fitter type: te_stats_glm_logit \n",
    "##  - View weight model summaries with show_weight_models() \n",
    "##  \n",
    "## Sequence of Trials Data: \n",
    "## - Chunk size: 500 \n",
    "## - Censor at switch: FALSE \n",
    "## - First period: 0 | Last period: Inf \n",
    "##  \n",
    "## A TE Datastore Datatable object \n",
    "## N: 1558 observations \n",
    "##          id trial_period followup_time outcome    weight treatment         x2\n",
    "##       <int>        <int>         <int>   <num>     <num>     <num>      <num>\n",
    "##    1:     1            0             0       0 1.0000000         1  1.1461484\n",
    "##    2:     1            0             1       0 0.9429254         1  1.1461484\n",
    "##   ---                                                                        \n",
    "## 1557:    99            0             6       0 0.8917236         1 -0.3463778\n",
    "## 1558:    99            0             7       1 0.8999358         0 -0.3463778\n",
    "##       assigned_treatment\n",
    "##                    <num>\n",
    "##    1:                  1\n",
    "##    2:                  1\n",
    "##   ---                   \n",
    "## 1557:                  1\n",
    "## 1558:                  1\n",
    "##  \n",
    "## Outcome model: \n",
    "## - Formula: outcome ~ assigned_treatment + x2 + followup_time + I(followup_time^2) + trial_period + I(trial_period^2) \n",
    "## - Treatment variable: assigned_treatment \n",
    "## - Adjustment variables: x2 \n",
    "## - Model fitter type: te_stats_glm_logit \n",
    "##  \n",
    "## Model Summary: \n",
    "##  \n",
    "##  term               estimate std.error statistic p.value conf.low conf.high\n",
    "##  (Intercept)        -6.02    0.780      -7.72    1.2e-14 -7.550   -4.4916  \n",
    "##  assigned_treatment  1.63    0.496       3.28    1.0e-03  0.654    2.5977  \n",
    "##  x2                  0.31    0.418       0.74    4.6e-01 -0.511    1.1282  \n",
    "##  followup_time       0.34    0.244       1.38    1.7e-01 -0.141    0.8148  \n",
    "##  I(followup_time^2) -0.02    0.014      -1.42    1.5e-01 -0.049    0.0077  \n",
    "##  trial_period        7.29    0.978       7.45    9.1e-14  5.371    9.2040  \n",
    "##  I(trial_period^2)  -7.68    0.537     -14.31    1.8e-46 -8.737   -6.6325  \n",
    "##  \n",
    "##  null.deviance df.null logLik AIC BIC deviance df.residual nobs\n",
    "##  158           800     -69.1  152 185 135      794         801 \n",
    "##  \n",
    "## Outcome data \n",
    "## N: 801 observations from 76 patients in 18 trial periods \n",
    "## Periods: 0 1 2 3 4 5 6 7 8 9 10 11 12 13 14 15 16 17 \n",
    "## Sampling control observations with probability: 0.5 \n",
    "##         id trial_period followup_time outcome   weight treatment         x2\n",
    "##      <int>        <int>         <int>   <num>    <num>     <num>      <num>\n",
    "##   1:    15            0             0       1 1.000000         1 -0.7365256\n",
    "##   2:    32            0             0       1 1.000000         1  1.9861380\n",
    "##  ---                                                                       \n",
    "## 800:    39            0            19       0 1.351756         1  0.2189413\n",
    "## 801:    54            0            19       0 1.359294         0  1.2924128\n",
    "##      assigned_treatment sample_weight        w\n",
    "##                   <num>         <num>    <num>\n",
    "##   1:                  1             1 1.000000\n",
    "##   2:                  1             1 1.000000\n",
    "##  ---                                          \n",
    "## 800:                  1             2 2.703512\n",
    "## 801:                  0             2 2.718587\n",
    "```"
   ]
  },
  {
   "cell_type": "code",
   "execution_count": null,
   "metadata": {},
   "outputs": [],
   "source": [
    "# Translated python:"
   ]
  },
  {
   "cell_type": "markdown",
   "metadata": {},
   "source": [
    "#### 9. Inference"
   ]
  },
  {
   "attachments": {
    "image.png": {
     "image/png": "[encoded data removed]"
    }
   },
   "cell_type": "markdown",
   "metadata": {},
   "source": [
    "We use the `predict()` method to estimate survival probabilities or cumulative incidences for different values of `assigned_treatment`.\n",
    "\n",
    "```R\n",
    "preds <- predict(\n",
    "  trial_itt,\n",
    "  newdata       = outcome_data(trial_itt)[trial_period == 1, ],\n",
    "  predict_times = 0:10,\n",
    "  type          = \"survival\",\n",
    ")\n",
    "\n",
    "plot(preds$difference$followup_time, preds$difference$survival_diff,\n",
    "  type = \"l\", xlab = \"Follow up\", ylab = \"Survival difference\")\n",
    "lines(preds$difference$followup_time, preds$difference$`2.5%`, type = \"l\", col = \"red\", lty = 2)\n",
    "lines(preds$difference$followup_time, preds$difference$`97.5%`, type = \"l\", col = \"red\", lty = 2)\n",
    "```\n",
    "\n",
    "![image.png](attachment:image.png)"
   ]
  },
  {
   "cell_type": "code",
   "execution_count": null,
   "metadata": {},
   "outputs": [],
   "source": [
    "# Translated python:"
   ]
  }
 ],
 "metadata": {
  "kernelspec": {
   "display_name": ".venv",
   "language": "python",
   "name": "python3"
  },
  "language_info": {
   "codemirror_mode": {
    "name": "ipython",
    "version": 3
   },
   "file_extension": ".py",
   "mimetype": "text/x-python",
   "name": "python",
   "nbconvert_exporter": "python",
   "pygments_lexer": "ipython3",
   "version": "3.13.2"
  }
 },
 "nbformat": 4,
 "nbformat_minor": 2
}
