{
 "cells": [
  {
   "cell_type": "markdown",
   "id": "de9ef8b6-adc4-41ab-ae2b-a49ebe863ed0",
   "metadata": {},
   "source": [
    " # Enhanced Simulation Pipeline with Parameter Sweeps for the Sessa Empirical Estimator (SEE)\n",
    "\n",
    " In this refined version, we:\n",
    " - Simulate refill histories for 100 individuals over 720 days with six predefined adherence patterns.\n",
    " - Compute LCMA2 daily adherence estimates.\n",
    " - Generate sliding-window adherence trajectories with overlapping windows.\n",
    " - Perform a parameter sweep over different window lengths and step sizes.\n",
    " - Cluster the trajectories using k-means (k=6) and compute the Adjusted Rand Index (ARI).\n",
    " - Visualize the effect of sliding-window parameters on clustering performance.\n",
    "\n",
    " This version includes additional edge-case testing and robust logging to ensure quality and reproducibility."
   ]
  },
  {
   "cell_type": "code",
   "execution_count": null,
   "id": "67dd73fb-989e-4779-ae59-55e9fca4b3f3",
   "metadata": {},
   "outputs": [],
   "source": [
    "# %% [code]\n",
    "\n",
    "import numpy as np\n",
    "import pandas as pd\n",
    "import matplotlib.pyplot as plt\n",
    "import seaborn as sns\n",
    "from sklearn.cluster import KMeans\n",
    "from sklearn.metrics import adjusted_rand_score\n",
    "import logging\n",
    "\n",
    "# Setup logging\n",
    "logging.basicConfig(level=logging.INFO, format='%(asctime)s %(levelname)s:%(message)s')\n",
    "logger = logging.getLogger(__name__)\n",
    "\n",
    "# Set random seed for reproducibility\n",
    "np.random.seed(123)"
   ]
  },
  {
   "cell_type": "markdown",
   "id": "e4955013-c263-48de-b62b-b4f4b1e5d281",
   "metadata": {},
   "source": [
    " ## Simulation Parameters and Data Generation\n",
    "\n",
    " We simulate refill histories over a 720-day observation period for 100 individuals.\n",
    " Each individual is assigned to one of six adherence groups."
   ]
  },
  {
   "cell_type": "code",
   "execution_count": null,
   "id": "49d1a605-d888-4df6-ace0-4d351c00bd69",
   "metadata": {},
   "outputs": [],
   "source": [
    "# %% [code]\n",
    "\n",
    "n_individuals = 100\n",
    "observation_period = 720  # days\n",
    "\n",
    "# Define group proportions: groups 1 and 6 have 10% each; groups 2,3,4,5 have 20% each.\n",
    "group_labels = []\n",
    "group_labels += [1] * 10    # Group 1: High adherence\n",
    "group_labels += [2] * 20    # Group 2: Erratic adherence\n",
    "group_labels += [3] * 20    # Group 3: Gradual decline\n",
    "group_labels += [4] * 20    # Group 4: Intermittent adherence\n",
    "group_labels += [5] * 20    # Group 5: Partial drop-off\n",
    "group_labels += [6] * 10    # Group 6: Non-persistence\n",
    "group_labels = np.array(group_labels)\n",
    "np.random.shuffle(group_labels)\n",
    "\n",
    "def simulate_refill_history(group, observation_period):\n",
    "    history = [(1, 30)]  # initial fill: day 1, supply 30 days\n",
    "    current_day = 1\n",
    "    while current_day < observation_period:\n",
    "        if group == 1:\n",
    "            next_day = current_day + history[-1][1]\n",
    "            supply = history[-1][1]\n",
    "        elif group == 2:\n",
    "            next_day = current_day + history[-1][1] + np.random.randint(-5, 6)\n",
    "            next_day = max(current_day + 1, next_day)\n",
    "            supply = np.random.choice([30, 60, 90])\n",
    "        elif group == 3:\n",
    "            delay = np.random.randint(0, 15)\n",
    "            next_day = current_day + history[-1][1] + delay\n",
    "            supply = np.random.choice([30, 60, 90])\n",
    "        elif group == 4:\n",
    "            if len(history) % 2 == 0:\n",
    "                next_day = current_day + history[-1][1]\n",
    "            else:\n",
    "                next_day = current_day + history[-1][1] + np.random.randint(10, 20)\n",
    "            supply = np.random.choice([30, 60, 90])\n",
    "        elif group == 5:\n",
    "            if len(history) < 3:\n",
    "                next_day = current_day + history[-1][1]\n",
    "            else:\n",
    "                next_day = current_day + history[-1][1] + np.random.randint(15, 30)\n",
    "            supply = np.random.choice([30, 60, 90])\n",
    "        elif group == 6:\n",
    "            if len(history) < 2:\n",
    "                next_day = current_day + history[-1][1]\n",
    "                supply = np.random.choice([30, 60, 90])\n",
    "            else:\n",
    "                break\n",
    "        else:\n",
    "            next_day = current_day + history[-1][1]\n",
    "            supply = np.random.choice([30, 60, 90])\n",
    "        if next_day > observation_period:\n",
    "            break\n",
    "        history.append((next_day, supply))\n",
    "        current_day = next_day\n",
    "    return history\n",
    "\n",
    "simulated_histories = {}\n",
    "true_groups = {}\n",
    "for i in range(n_individuals):\n",
    "    group = group_labels[i]\n",
    "    true_groups[i] = group\n",
    "    simulated_histories[i] = simulate_refill_history(group, observation_period)"
   ]
  },
  {
   "cell_type": "markdown",
   "id": "83fe3ae6-bb10-43e0-8eef-27ee0be6e7e1",
   "metadata": {},
   "source": [
    " ## Compute Daily LCMA2 Adherence Estimates\n",
    "\n",
    " For LCMA2, we assume that between two refill events, the adherence is evenly distributed."
   ]
  },
  {
   "cell_type": "code",
   "execution_count": null,
   "id": "0eb6a105-6168-4acb-84bf-f506b21a48f4",
   "metadata": {},
   "outputs": [],
   "source": [
    "# %% [code]\n",
    "\n",
    "def compute_lcma2_for_individual(refill_history, observation_period):\n",
    "    daily_adherence = np.full(observation_period, np.nan)\n",
    "    for i in range(len(refill_history)):\n",
    "        start_day, supply = refill_history[i]\n",
    "        if i < len(refill_history) - 1:\n",
    "            next_refill_day = refill_history[i+1][0]\n",
    "            interval = next_refill_day - start_day\n",
    "            adherence_value = supply / interval\n",
    "            daily_adherence[start_day-1:next_refill_day-1] = adherence_value\n",
    "        else:\n",
    "            end_day = min(start_day + supply, observation_period + 1)\n",
    "            interval = end_day - start_day\n",
    "            adherence_value = supply / interval if interval > 0 else 0\n",
    "            daily_adherence[start_day-1:end_day-1] = adherence_value\n",
    "    daily_adherence = np.nan_to_num(daily_adherence, nan=0.0)\n",
    "    return daily_adherence\n",
    "\n",
    "daily_adherence_dict = {}\n",
    "for i in range(n_individuals):\n",
    "    daily_adherence_dict[i] = compute_lcma2_for_individual(simulated_histories[i], observation_period)"
   ]
  },
  {
   "cell_type": "markdown",
   "id": "f0ff0a4f-5159-42bf-a609-0fb0789642eb",
   "metadata": {},
   "source": [
    " ## Function: Compute Sliding-Window Trajectories with Overlap\n",
    "\n",
    " This function computes trajectories given a window length and step (allowing overlapping windows)."
   ]
  },
  {
   "cell_type": "code",
   "execution_count": null,
   "id": "bb2e6cda-4c58-4556-8284-39feb32684e0",
   "metadata": {},
   "outputs": [],
   "source": [
    "# %% [code]\n",
    "\n",
    "def compute_sliding_window_trajectory_overlapping(daily_adherence, window_length, step):\n",
    "    \"\"\"\n",
    "    Computes a trajectory using sliding windows with specified window_length and step.\n",
    "    \n",
    "    Parameters:\n",
    "    -----------\n",
    "    daily_adherence : array-like\n",
    "        Daily adherence vector for an individual.\n",
    "    window_length : int\n",
    "        Number of days per window.\n",
    "    step : int\n",
    "        Number of days to slide the window (step < window_length gives overlap).\n",
    "    \n",
    "    Returns:\n",
    "    --------\n",
    "    trajectory : numpy.array\n",
    "        Array of mean adherence values per window.\n",
    "    \"\"\"\n",
    "    n_days = len(daily_adherence)\n",
    "    trajectory = []\n",
    "    for start in range(0, n_days - window_length + 1, step):\n",
    "        window = daily_adherence[start:start + window_length]\n",
    "        window_mean = np.mean(window)\n",
    "        trajectory.append(window_mean)\n",
    "    return np.array(trajectory)"
   ]
  },
  {
   "cell_type": "markdown",
   "id": "7a7c4c79-a1b5-45d7-a767-28c932813c2e",
   "metadata": {},
   "source": [
    " ## Generate Trajectories for All Individuals Using Specified Parameters\n",
    "\n",
    " We now compute trajectories for each individual given a window_length and step."
   ]
  },
  {
   "cell_type": "code",
   "execution_count": null,
   "id": "f281c5f8-482a-40b8-ae64-1adbd615dc29",
   "metadata": {},
   "outputs": [],
   "source": [
    "# %% [code]\n",
    "\n",
    "def compute_all_trajectories(daily_adherence_dict, window_length, step):\n",
    "    trajectories = {}\n",
    "    for i in daily_adherence_dict:\n",
    "        traj = compute_sliding_window_trajectory_overlapping(daily_adherence_dict[i], window_length, step)\n",
    "        trajectories[i] = traj\n",
    "    return pd.DataFrame(trajectories).T  # rows: individuals"
   ]
  },
  {
   "cell_type": "markdown",
   "id": "d87fa10a-a7db-4d2c-93b1-e0ce733d48d4",
   "metadata": {},
   "source": [
    " ## Parameter Sweep: Evaluate Sliding Window Parameters\n",
    "\n",
    " We now perform a parameter sweep over various window lengths and step sizes to see how they affect the clustering performance.\n",
    " For each combination, we:\n",
    "  - Compute trajectories.\n",
    "  - Cluster the trajectories using k-means (k=6).\n",
    "  - Compute the Adjusted Rand Index (ARI) comparing predicted clusters to true group labels.\n",
    "\n",
    " We then store the ARI for each combination."
   ]
  },
  {
   "cell_type": "code",
   "execution_count": null,
   "id": "28b96590-d4e7-4a94-86d3-89c402bd521a",
   "metadata": {},
   "outputs": [
    {
     "name": "stderr",
     "output_type": "stream",
     "text": [
      "2025-02-25 18:39:07,158 INFO:Window Length: 30, Step: 15, ARI: 0.4185\n",
      "2025-02-25 18:39:07,181 INFO:Window Length: 30, Step: 30, ARI: 0.2953\n",
      "2025-02-25 18:39:07,199 INFO:Window Length: 30, Step: 45, ARI: 0.4587\n",
      "2025-02-25 18:39:07,232 INFO:Window Length: 60, Step: 15, ARI: 0.6557\n",
      "2025-02-25 18:39:07,254 INFO:Window Length: 60, Step: 30, ARI: 0.5912\n",
      "2025-02-25 18:39:07,269 INFO:Window Length: 60, Step: 45, ARI: 0.5655\n",
      "2025-02-25 18:39:07,302 INFO:Window Length: 90, Step: 15, ARI: 0.6429\n",
      "2025-02-25 18:39:07,322 INFO:Window Length: 90, Step: 30, ARI: 0.6006\n",
      "2025-02-25 18:39:07,335 INFO:Window Length: 90, Step: 45, ARI: 0.5738\n"
     ]
    },
    {
     "name": "stdout",
     "output_type": "stream",
     "text": [
      "   window_length  step       ARI\n",
      "0             30    15  0.418524\n",
      "1             30    30  0.295324\n",
      "2             30    45  0.458697\n",
      "3             60    15  0.655671\n",
      "4             60    30  0.591212\n",
      "5             60    45  0.565509\n",
      "6             90    15  0.642943\n",
      "7             90    30  0.600629\n",
      "8             90    45  0.573759\n"
     ]
    }
   ],
   "source": [
    "# %% [code]\n",
    "\n",
    "window_lengths = [30, 60, 90]  # possible window lengths in days\n",
    "steps = [15, 30, 45]           # possible steps (overlap: lower step => higher overlap)\n",
    "\n",
    "results_summary = []\n",
    "\n",
    "for wl in window_lengths:\n",
    "    for step in steps:\n",
    "        # Compute trajectories for current parameters\n",
    "        traj_df = compute_all_trajectories(daily_adherence_dict, window_length=wl, step=step)\n",
    "        \n",
    "        # Check if enough windows exist (require at least 3 windows for meaningful trajectory)\n",
    "        if traj_df.shape[1] < 3:\n",
    "            logger.info(f\"Skipping window_length {wl} and step {step}: insufficient windows.\")\n",
    "            continue\n",
    "        \n",
    "        # Perform k-means clustering with k=6\n",
    "        k = 6\n",
    "        kmeans = KMeans(n_clusters=k, random_state=123)\n",
    "        predicted_labels = kmeans.fit_predict(traj_df)\n",
    "        \n",
    "        # Compute ARI comparing predicted clusters with true groups\n",
    "        true_labels = np.array([true_groups[i] for i in range(n_individuals)])\n",
    "        ari = adjusted_rand_score(true_labels, predicted_labels)\n",
    "        logger.info(f\"Window Length: {wl}, Step: {step}, ARI: {ari:.4f}\")\n",
    "        \n",
    "        results_summary.append({'window_length': wl, 'step': step, 'ARI': ari})\n",
    "\n",
    "results_df = pd.DataFrame(results_summary)\n",
    "print(results_df)"
   ]
  },
  {
   "cell_type": "markdown",
   "id": "aa484fb1-0770-41ef-8358-99aead41395e",
   "metadata": {},
   "source": [
    " ## Visualization of Parameter Sweep Results\n",
    "\n",
    " We now visualize the ARI scores from the parameter sweep as a heatmap."
   ]
  },
  {
   "cell_type": "code",
   "execution_count": null,
   "id": "fb11ab8e-be99-4b1f-a43f-a02ddc8b85b8",
   "metadata": {},
   "outputs": [
    {
     "data": {
      "image/png": "[encoded data removed]",
      "text/plain": [
       "<Figure size 640x480 with 2 Axes>"
      ]
     },
     "metadata": {},
     "output_type": "display_data"
    }
   ],
   "source": [
    "# %% [code]\n",
    "\n",
    "# --- FIX: use pivot with keyword arguments or pivot_table ---\n",
    "pivot_table = results_df.pivot(\n",
    "    index=\"window_length\",\n",
    "    columns=\"step\",\n",
    "    values=\"ARI\"\n",
    ")\n",
    "\n",
    "sns.heatmap(pivot_table, annot=True, fmt=\".4f\", cmap=\"YlGnBu\")\n",
    "plt.title(\"ARI Scores for Different Sliding Window Parameters\")\n",
    "plt.xlabel(\"Step (days)\")\n",
    "plt.ylabel(\"Window Length (days)\")\n",
    "plt.show()"
   ]
  },
  {
   "cell_type": "markdown",
   "id": "4d88e790-7abe-4d54-a0e8-3a1fee707825",
   "metadata": {},
   "source": [
    " ## Discussion of Insights\n",
    "\n",
    " - **Parameter Impact:**\n",
    "   The heatmap shows how ARI (clustering performance) varies with different window lengths and step sizes.\n",
    "\n",
    " - **Optimal Parameters:**\n",
    "   We can identify which combinations yield higher ARI scores, suggesting better recovery of the true adherence groups.\n",
    "\n",
    " - **Trade-Offs:**\n",
    "   Smaller window lengths may capture finer details but might be more sensitive to noise; larger windows provide smoother trajectories.\n",
    "   Similarly, smaller step sizes (more overlap) increase computational load but can yield smoother trajectories.\n",
    "\n",
    " - **Recommendation:**\n",
    "   Based on the simulation, one might choose the parameters that maximize ARI while balancing computational complexity.\n",
    "\n",
    " **Conclusion:**\n",
    " Part 3 is a refined simulation using the Sessa Empirical Estimator with LCMA2 and a sliding-window approach demonstrates how varying window parameters can affect clustering performance. The insights gained from the parameter sweep help inform optimal choices for real-world adherence trajectory analysis."
   ]
  }
 ],
 "metadata": {
  "language_info": {
   "codemirror_mode": {
    "name": "ipython",
    "version": 3
   },
   "file_extension": ".py",
   "mimetype": "text/x-python",
   "name": "python",
   "nbconvert_exporter": "python",
   "pygments_lexer": "ipython3",
   "version": 3
  }
 },
 "nbformat": 4,
 "nbformat_minor": 2
}
